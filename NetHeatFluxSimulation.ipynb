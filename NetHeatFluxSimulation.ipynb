{
 "cells": [
  {
   "cell_type": "markdown",
   "id": "faf7965a-bd95-488e-ab6f-001d52dbc0e1",
   "metadata": {},
   "source": [
    "## Exporting the modules "
   ]
  },
  {
   "cell_type": "code",
   "execution_count": 1,
   "id": "a5a6c565-525d-4634-88e7-f4c0a8b1c9a0",
   "metadata": {},
   "outputs": [],
   "source": [
    "using Printf\n",
    "using Oceananigans\n",
    "using Oceananigans.Utils\n",
    "using Oceananigans.Units: minute, minutes, hour\n",
    "using Oceananigans.Grids: nodes\n",
    "using Oceananigans.Diagnostics\n",
    "using Oceananigans.OutputWriters: JLD2OutputWriter, FieldSlicer, TimeInterval\n",
    "using Oceananigans.Diagnostics: accurate_cell_advection_timescale"
   ]
  },
  {
   "cell_type": "markdown",
   "id": "45b2a14a-59ff-4d58-87e7-853f6e3a0faa",
   "metadata": {},
   "source": [
    "## Defining Grid"
   ]
  },
  {
   "cell_type": "code",
   "execution_count": 4,
   "id": "688a5182-f9c0-4729-9018-c5c777da49c6",
   "metadata": {},
   "outputs": [
    {
     "data": {
      "text/plain": [
       "VerticallyStretchedRectilinearGrid{Float64, Periodic, Periodic, Bounded}\n",
       "                   domain: x ∈ [0.0, 4.0], y ∈ [0.0, 4.0], z ∈ [-0.1, 0.0]\n",
       "                 topology: (Periodic, Periodic, Bounded)\n",
       "  resolution (Nx, Ny, Nz): (256, 256, 64)\n",
       "   halo size (Hx, Hy, Hz): (3, 3, 3)\n",
       "grid spacing (Δx, Δy, Δz): (0.015625, 0.015625, [min=0.0004178411847718111, max=0.0027119068833282023])"
      ]
     },
     "execution_count": 4,
     "metadata": {},
     "output_type": "execute_result"
    }
   ],
   "source": [
    "#number of grid spacing in south,north and vertical direction\n",
    "const Nx=256\n",
    "const Ny=256\n",
    "const Nz=64\n",
    "\n",
    "#Length of grid in south, north and vertical direction\n",
    "const Lx=4\n",
    "const Ly=4\n",
    "const Lz=0.1\n",
    "\n",
    "const S = 1.6 # Stretching factor\n",
    "hyperbolically_spaced_nodes(k) = -Lz-Lz*(tanh(S * ( (-(k-Nz-1) ) / Nz - 1)) / tanh(S))\n",
    "computational_grid = VerticallyStretchedRectilinearGrid(size = (Nx, Ny, Nz), \n",
    "                                                               architecture = CPU(),\n",
    "                                                               x = (0,Lx),\n",
    "                                                               y = (0,Ly),\n",
    "                                                               halo = (3, 3, 3),\n",
    "                                                               z_faces = hyperbolically_spaced_nodes)\n"
   ]
  },
  {
   "cell_type": "markdown",
   "id": "6596d33c-f965-4dd8-b957-dbb7475caf23",
   "metadata": {},
   "source": [
    "## Governing parameters"
   ]
  },
  {
   "cell_type": "code",
   "execution_count": 5,
   "id": "6dcce680-aa3a-4aea-98e6-c20822002b8c",
   "metadata": {},
   "outputs": [
    {
     "data": {
      "text/plain": [
       "-0.5"
      ]
     },
     "execution_count": 5,
     "metadata": {},
     "output_type": "execute_result"
    }
   ],
   "source": [
    "#Coefficient of Thermal expansion\n",
    "const alpha= 2e-4\n",
    "\n",
    "#Coefficient of Salinity\n",
    "const beta=0\n",
    "\n",
    "#diffusive viscocity\n",
    "const v=1e-5 \n",
    "#diffusivity\n",
    "const k=2e-6 \n",
    "\n",
    "const f=-0.5   #coriolis parameter"
   ]
  },
  {
   "cell_type": "markdown",
   "id": "8abcfec6-21fa-46c5-b4e7-b2b510a4d161",
   "metadata": {},
   "source": [
    "## Boundary conditions"
   ]
  },
  {
   "cell_type": "markdown",
   "id": "b7bbc516-308f-46c7-8b33-0b6755103471",
   "metadata": {},
   "source": [
    "### Temperature(Tracer) boundary condition"
   ]
  },
  {
   "cell_type": "code",
   "execution_count": 52,
   "id": "b9869e12-5e00-46cc-8682-d0ccf584c465",
   "metadata": {},
   "outputs": [
    {
     "data": {
      "text/plain": [
       "Q_sh (generic function with 1 method)"
      ]
     },
     "execution_count": 52,
     "metadata": {},
     "output_type": "execute_result"
    }
   ],
   "source": [
    "Amplitude = 950 # Amplitude (W/m²) of Heat flux\n",
    "\n",
    "Q_cool = -143.1092 # (W/m²) {due to Longwave + Latent heat + Sensible Heat}\n",
    "\n",
    "gausian(t) =  exp(-((t)^2)/(0.025*(86400)^2)) \n",
    "\n",
    "# These are the times during which peak of the heat flux can be observed\n",
    "peak1 = 0.56 * 24hour\n",
    "peak2 = 1.56 * 24hour\n",
    "peak3 = 2.56 * 24hour\n",
    "peak4 = 3.56 * 24hour\n",
    "peak5 = 4.56 * 24hour\n",
    "peak6 = 5.56 * 24hour\n",
    "\n",
    "# Heat absorbed due to shortwave\n",
    "Q_sh(t) = Amplitude*(gausian(t-peak1) + gausian(t-peak2) + gausian(t-peak3) + gausian(t-peak4)+ gausian(t-peak5)+ gausian(t-peak6) )\n"
   ]
  },
  {
   "cell_type": "code",
   "execution_count": 53,
   "id": "05317ddc-13ff-430b-9db0-6d26b6a51f04",
   "metadata": {},
   "outputs": [
    {
     "data": {
      "text/plain": [
       "Q_net (generic function with 1 method)"
      ]
     },
     "execution_count": 53,
     "metadata": {},
     "output_type": "execute_result"
    }
   ],
   "source": [
    "Q_net(t) = Q_sh(t) + Q_cool"
   ]
  },
  {
   "cell_type": "code",
   "execution_count": 54,
   "id": "c954287e-9ec9-4707-b186-f21ed9c92b4f",
   "metadata": {},
   "outputs": [
    {
     "data": {
      "text/plain": [
       "48384.00000000001"
      ]
     },
     "execution_count": 54,
     "metadata": {},
     "output_type": "execute_result"
    }
   ],
   "source": [
    "0.56 * 24hour"
   ]
  },
  {
   "cell_type": "code",
   "execution_count": 32,
   "id": "9657b07e-bb3a-4c53-8fb3-49e5dc3ef4b3",
   "metadata": {
    "collapsed": true,
    "jupyter": {
     "outputs_hidden": true
    },
    "tags": []
   },
   "outputs": [
    {
     "ename": "LoadError",
     "evalue": "UndefVarError: Q not defined",
     "output_type": "error",
     "traceback": [
      "UndefVarError: Q not defined",
      "",
      "Stacktrace:",
      " [1] top-level scope",
      "   @ In[32]:1",
      " [2] eval",
      "   @ .\\boot.jl:360 [inlined]",
      " [3] include_string(mapexpr::typeof(REPL.softscope), mod::Module, code::String, filename::String)",
      "   @ Base .\\loading.jl:1094"
     ]
    }
   ],
   "source": [
    "T_bcs = TracerBoundaryConditions(computational_grid,\n",
    "                                 top = FluxBoundaryCondition(Q),\n",
    "                                 bottom = GradientBoundaryCondition(dTdz))\n",
    "\n"
   ]
  },
  {
   "cell_type": "code",
   "execution_count": 55,
   "id": "5850826f-0045-4601-9565-dd92973db4e1",
   "metadata": {},
   "outputs": [
    {
     "data": {
      "text/plain": [
       "heatflux (generic function with 1 method)"
      ]
     },
     "execution_count": 55,
     "metadata": {},
     "output_type": "execute_result"
    }
   ],
   "source": [
    "function heatflux()\n",
    "    if Q_net(t) <= 0\n",
    "        bias = 1\n",
    "        multiplier = 0\n",
    "    else\n",
    "        bias = 0\n",
    "        multiplier = 1\n",
    "    end\n",
    "    \n",
    "    return Q = bias*Q_cool\n",
    "end"
   ]
  },
  {
   "cell_type": "code",
   "execution_count": 56,
   "id": "a82bc277-04ba-470a-9a11-d4046328f765",
   "metadata": {},
   "outputs": [
    {
     "data": {
      "text/plain": [
       "-143.1092"
      ]
     },
     "execution_count": 56,
     "metadata": {},
     "output_type": "execute_result"
    }
   ],
   "source": [
    "t = 100\n",
    "heatflux()"
   ]
  },
  {
   "cell_type": "code",
   "execution_count": null,
   "id": "7f9be4d9-9aa9-47dd-ba0a-21a2323174b2",
   "metadata": {},
   "outputs": [],
   "source": []
  }
 ],
 "metadata": {
  "kernelspec": {
   "display_name": "Julia 1.6.1",
   "language": "julia",
   "name": "julia-1.6"
  },
  "language_info": {
   "file_extension": ".jl",
   "mimetype": "application/julia",
   "name": "julia",
   "version": "1.6.1"
  },
  "widgets": {
   "application/vnd.jupyter.widget-state+json": {
    "state": {},
    "version_major": 2,
    "version_minor": 0
   }
  }
 },
 "nbformat": 4,
 "nbformat_minor": 5
}
